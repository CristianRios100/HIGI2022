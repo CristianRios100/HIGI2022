{
  "nbformat": 4,
  "nbformat_minor": 0,
  "metadata": {
    "colab": {
      "provenance": []
    },
    "kernelspec": {
      "name": "python3",
      "display_name": "Python 3"
    },
    "language_info": {
      "name": "python"
    }
  },
  "cells": [
    {
      "cell_type": "code",
      "execution_count": null,
      "metadata": {
        "id": "Wr65_2Ltjy5Z"
      },
      "outputs": [],
      "source": [
        "#Graficar \n",
        "import os\n",
        "import numpy as np \n",
        "import matplotlib.pyplot as plt\n",
        "import math as math\n",
        "from scipy.optimize import minimize\n",
        "from scipy import stats"
      ]
    },
    {
      "cell_type": "markdown",
      "source": [
        "data=np.load(\"line.npy\")"
      ],
      "metadata": {
        "id": "VoL1kMD7k32F"
      }
    },
    {
      "cell_type": "code",
      "source": [
        "print(data)"
      ],
      "metadata": {
        "colab": {
          "base_uri": "https://localhost:8080/"
        },
        "id": "XW_SgGmHlBqk",
        "outputId": "5159c1ac-a3eb-4feb-8ac7-fa9c276bec41"
      },
      "execution_count": null,
      "outputs": [
        {
          "output_type": "stream",
          "name": "stdout",
          "text": [
            "[[ 0.59677897  0.9210494   1.15618395  1.75451756  1.8249173   2.26851454\n",
            "   2.28263231  2.50455365  2.86139335  2.93714046  3.12261223  3.17285482\n",
            "   3.22958914  3.43178016  3.61788656  3.92117518  3.98044255  4.14826212\n",
            "   4.2310646   4.2583029   4.26351307  4.30862763  4.33701173  4.38572245\n",
            "   4.80931901  4.83034264  4.93685098  5.01836676  5.19485119  5.31551374\n",
            "   5.31827587  5.51314769  6.11023511  6.12894526  6.23952952  6.30976124\n",
            "   6.34400959  6.84829739  6.96469186  7.1946897   7.22443383  7.24455325\n",
            "   7.29049707  7.37995406  8.49431794  8.66309158  8.93389163  9.44160018\n",
            "   9.80764198  9.85559786]\n",
            " [ 4.05604445  3.49473158  3.64659922  2.13858412  2.592304    2.4144795\n",
            "   2.00068802  2.34549221  0.96557623  0.99178712  1.46307492  1.10095878\n",
            "   1.46034876  0.13653165  1.19421147  0.89993786  0.4632976   0.32173118\n",
            "   0.27010789 -0.51056385  0.26659401 -0.71089448 -0.0438278   0.66018092\n",
            "  -0.39951159 -0.14112664 -0.05920187 -0.47059271 -0.93196098 -0.95457459\n",
            "  -0.30011546 -1.89845423 -1.67218374 -1.74869226 -1.62427623 -1.36988805\n",
            "  -1.34410258 -2.30916966 -2.18290338 -2.4591166  -2.42248942 -2.99347001\n",
            "  -2.97771581 -3.31574997 -4.1554429  -3.87394581 -4.14358052 -4.6674123\n",
            "  -5.23645677 -4.67072792]\n",
            " [ 0.16031433  0.5131704   0.40153006  0.372534    0.27138192  0.25206039\n",
            "   0.30851111  0.44065038  0.53772842  0.35521117  0.43465689  0.39296828\n",
            "   0.41245175  0.43734453  0.52117122  0.14159749  0.48184142  0.22183319\n",
            "   0.19711148  0.38622848  0.14785626  0.54266341  0.41362449  0.46170818\n",
            "   0.1080646   0.39721594  0.3783926   0.17947982  0.17653526  0.44776476\n",
            "   0.25938321  0.44598515  0.37719162  0.29447529  0.56256624  0.520835\n",
            "   0.27869878  0.12179573  0.25238404  0.29909284  0.45247942  0.59767924\n",
            "   0.27795743  0.48127391  0.39658846  0.4458509   0.17556373  0.29943815\n",
            "   0.22042795  0.27172801]]\n"
          ]
        }
      ]
    },
    {
      "cell_type": "code",
      "source": [
        "x=data[0]"
      ],
      "metadata": {
        "id": "0nF4C27TlbK0"
      },
      "execution_count": null,
      "outputs": []
    },
    {
      "cell_type": "code",
      "source": [
        "print(x)"
      ],
      "metadata": {
        "colab": {
          "base_uri": "https://localhost:8080/"
        },
        "id": "i_Tw4S1blmmj",
        "outputId": "e42db854-6257-4c51-d9ec-c2f462c322c3"
      },
      "execution_count": null,
      "outputs": [
        {
          "output_type": "stream",
          "name": "stdout",
          "text": [
            "[0.59677897 0.9210494  1.15618395 1.75451756 1.8249173  2.26851454\n",
            " 2.28263231 2.50455365 2.86139335 2.93714046 3.12261223 3.17285482\n",
            " 3.22958914 3.43178016 3.61788656 3.92117518 3.98044255 4.14826212\n",
            " 4.2310646  4.2583029  4.26351307 4.30862763 4.33701173 4.38572245\n",
            " 4.80931901 4.83034264 4.93685098 5.01836676 5.19485119 5.31551374\n",
            " 5.31827587 5.51314769 6.11023511 6.12894526 6.23952952 6.30976124\n",
            " 6.34400959 6.84829739 6.96469186 7.1946897  7.22443383 7.24455325\n",
            " 7.29049707 7.37995406 8.49431794 8.66309158 8.93389163 9.44160018\n",
            " 9.80764198 9.85559786]\n"
          ]
        }
      ]
    },
    {
      "cell_type": "code",
      "source": [
        "y=data[1]"
      ],
      "metadata": {
        "id": "_h2XZm8uli0T"
      },
      "execution_count": null,
      "outputs": []
    },
    {
      "cell_type": "code",
      "source": [
        "print(y)"
      ],
      "metadata": {
        "colab": {
          "base_uri": "https://localhost:8080/"
        },
        "id": "oUNg8CgJmE3D",
        "outputId": "b8dd063d-ed89-4ff6-fc9b-a35eebdf2b59"
      },
      "execution_count": null,
      "outputs": [
        {
          "output_type": "stream",
          "name": "stdout",
          "text": [
            "[ 4.05604445  3.49473158  3.64659922  2.13858412  2.592304    2.4144795\n",
            "  2.00068802  2.34549221  0.96557623  0.99178712  1.46307492  1.10095878\n",
            "  1.46034876  0.13653165  1.19421147  0.89993786  0.4632976   0.32173118\n",
            "  0.27010789 -0.51056385  0.26659401 -0.71089448 -0.0438278   0.66018092\n",
            " -0.39951159 -0.14112664 -0.05920187 -0.47059271 -0.93196098 -0.95457459\n",
            " -0.30011546 -1.89845423 -1.67218374 -1.74869226 -1.62427623 -1.36988805\n",
            " -1.34410258 -2.30916966 -2.18290338 -2.4591166  -2.42248942 -2.99347001\n",
            " -2.97771581 -3.31574997 -4.1554429  -3.87394581 -4.14358052 -4.6674123\n",
            " -5.23645677 -4.67072792]\n"
          ]
        }
      ]
    },
    {
      "cell_type": "code",
      "source": [
        "yerr=data[2]"
      ],
      "metadata": {
        "id": "ry7xKO3rmKGD"
      },
      "execution_count": null,
      "outputs": []
    },
    {
      "cell_type": "code",
      "source": [
        "# 1)Graficar x vs y con barra de error con plt.errorbar, fmt = formato\n",
        "plt.errorbar(x,y,yerr, fmt='.')"
      ],
      "metadata": {
        "colab": {
          "base_uri": "https://localhost:8080/",
          "height": 282
        },
        "id": "JhgxPM5pmYTT",
        "outputId": "7bc0d4e0-42e2-45d0-e5dc-5c36c5fc0783"
      },
      "execution_count": null,
      "outputs": [
        {
          "output_type": "execute_result",
          "data": {
            "text/plain": [
              "<ErrorbarContainer object of 3 artists>"
            ]
          },
          "metadata": {},
          "execution_count": 14
        },
        {
          "output_type": "display_data",
          "data": {
            "text/plain": [
              "<Figure size 432x288 with 1 Axes>"
            ],
            "image/png": "[encoded data removed]"
          },
          "metadata": {
            "needs_background": "light"
          }
        }
      ]
    },
    {
      "cell_type": "code",
      "source": [
        "#Documentacion\n",
        "plt.errorbar?"
      ],
      "metadata": {
        "id": "Eh2bvLbTsZND"
      },
      "execution_count": null,
      "outputs": []
    },
    {
      "cell_type": "code",
      "source": [
        "# 0) Grafica simple\n",
        "plt.plot(x,y)"
      ],
      "metadata": {
        "colab": {
          "base_uri": "https://localhost:8080/",
          "height": 282
        },
        "id": "groDenSNooMI",
        "outputId": "3e604026-d61e-4c03-fb66-dd2bc57fc7c8"
      },
      "execution_count": null,
      "outputs": [
        {
          "output_type": "execute_result",
          "data": {
            "text/plain": [
              "[<matplotlib.lines.Line2D at 0x7f3dd305ee10>]"
            ]
          },
          "metadata": {},
          "execution_count": 11
        },
        {
          "output_type": "display_data",
          "data": {
            "text/plain": [
              "<Figure size 432x288 with 1 Axes>"
            ],
            "image/png": "[encoded data removed]"
          },
          "metadata": {
            "needs_background": "light"
          }
        }
      ]
    },
    {
      "cell_type": "code",
      "source": [
        "#Si el archivo esta en .txt o .dat se usa np.loadtxt"
      ],
      "metadata": {
        "id": "B9bqEEn6ozZz"
      },
      "execution_count": null,
      "outputs": []
    },
    {
      "cell_type": "code",
      "source": [
        "plt.figure"
      ],
      "metadata": {
        "colab": {
          "base_uri": "https://localhost:8080/",
          "height": 130
        },
        "id": "ZqfHladDwEv6",
        "outputId": "35750a4a-62b1-48e1-af46-36128578e6fd"
      },
      "execution_count": null,
      "outputs": [
        {
          "output_type": "error",
          "ename": "SyntaxError",
          "evalue": "ignored",
          "traceback": [
            "\u001b[0;36m  File \u001b[0;32m\"<ipython-input-16-cf8f47c74a29>\"\u001b[0;36m, line \u001b[0;32m1\u001b[0m\n\u001b[0;31m    plt.figure?\u001b[0m\n\u001b[0m              ^\u001b[0m\n\u001b[0;31mSyntaxError\u001b[0m\u001b[0;31m:\u001b[0m invalid syntax\n"
          ]
        }
      ]
    },
    {
      "cell_type": "code",
      "source": [
        "#"
      ],
      "metadata": {
        "id": "muWtA6H92BoK"
      },
      "execution_count": null,
      "outputs": []
    }
  ]
}